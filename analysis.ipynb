{
 "cells": [
  {
   "cell_type": "code",
   "execution_count": 1,
   "metadata": {},
   "outputs": [],
   "source": [
    "import pandas as pd\n",
    "import matplotlib.pyplot as plt\n",
    "import seaborn as sns\n",
    "from datetime import datetime\n",
    "import numpy as np\n",
    "\n",
    "# Set style for better visualizations\n",
    "sns.set_style(\"whitegrid\")  # Use seaborn's set_style instead of plt.style.use\n",
    "sns.set_palette(\"husl\")\n",
    "\n",
    "# Read the data\n",
    "financial_df = pd.read_csv('finanical_information.csv')\n",
    "payment_df = pd.read_csv('payment_information.csv')\n",
    "subscription_df = pd.read_csv('subscription_information.csv')\n",
    "industry_df = pd.read_csv('industry_client_details.csv')"
   ]
  },
  {
   "cell_type": "code",
   "execution_count": 9,
   "metadata": {},
   "outputs": [
    {
     "name": "stdout",
     "output_type": "stream",
     "text": [
      "\n",
      "1. Industry Client Counts:\n",
      "industry\n",
      "Finance Lending    22\n",
      "Block Chain        25\n",
      "Name: count, dtype: int64\n"
     ]
    }
   ],
   "source": [
    "def analyze_industry_clients():\n",
    "    \"\"\"\n",
    "    Analyzes and visualizes the distribution of clients across industries,\n",
    "    focusing on Finance Lending and Block Chain sectors.\n",
    "    \n",
    "    Creates a bar plot showing client counts and saves it as 'industry_counts.png'\n",
    "    \"\"\"\n",
    "    # Count number of clients in each industry\n",
    "    industry_counts = industry_df['industry'].value_counts()\n",
    "    # Filter for target industries\n",
    "    target_industries = industry_counts[['Finance Lending', 'Block Chain']]\n",
    "    \n",
    "    # Create and save visualization\n",
    "    plt.figure(figsize=(10, 6))\n",
    "    target_industries.plot(kind='bar')\n",
    "    plt.title('Number of Finance Lending and Blockchain Clients')\n",
    "    plt.xlabel('Industry')\n",
    "    plt.ylabel('Number of Clients')\n",
    "    plt.xticks(rotation=45)\n",
    "    plt.tight_layout()\n",
    "    plt.savefig('industry_counts.png')\n",
    "    plt.close()\n",
    "    \n",
    "    print(\"\\n1. Industry Client Counts:\")\n",
    "    print(target_industries)\n",
    "\n",
    "\n",
    "analyze_industry_clients()"
   ]
  },
  {
   "cell_type": "code",
   "execution_count": 10,
   "metadata": {},
   "outputs": [
    {
     "name": "stdout",
     "output_type": "stream",
     "text": [
      "\n",
      "2. Industry Renewal Rates:\n",
      "industry\n",
      "AI                 63.64\n",
      "Block Chain        44.00\n",
      "Finance Lending    54.55\n",
      "Gaming             72.73\n",
      "Hyper Local        45.00\n",
      "Name: renewal_rate, dtype: float64\n"
     ]
    }
   ],
   "source": [
    "def analyze_renewal_rates():\n",
    "    \"\"\"\n",
    "    Calculates and visualizes subscription renewal rates by industry.\n",
    "    \n",
    "    Merges subscription and industry data to compute the percentage of\n",
    "    renewals for each industry sector and saves plot as 'renewal_rates.png'\n",
    "    \"\"\"\n",
    "    # Merge subscription and industry data\n",
    "    merged_df = subscription_df.merge(industry_df, on='client_id')\n",
    "    \n",
    "    # Calculate renewal rate by industry\n",
    "    industry_renewal = merged_df.groupby('industry')['renewed'].agg(['count', 'sum'])\n",
    "    industry_renewal['renewal_rate'] = (industry_renewal['sum'] / industry_renewal['count']) * 100\n",
    "    \n",
    "    # Create and save visualization\n",
    "    plt.figure(figsize=(12, 6))\n",
    "    industry_renewal['renewal_rate'].plot(kind='bar')\n",
    "    plt.title('Renewal Rate by Industry')\n",
    "    plt.xlabel('Industry')\n",
    "    plt.ylabel('Renewal Rate (%)')\n",
    "    plt.xticks(rotation=45)\n",
    "    plt.tight_layout()\n",
    "    plt.savefig('renewal_rates.png')\n",
    "    plt.close()\n",
    "    \n",
    "    print(\"\\n2. Industry Renewal Rates:\")\n",
    "    print(industry_renewal['renewal_rate'].round(2))\n",
    "\n",
    "analyze_renewal_rates()"
   ]
  },
  {
   "cell_type": "code",
   "execution_count": 11,
   "metadata": {},
   "outputs": [
    {
     "name": "stdout",
     "output_type": "stream",
     "text": [
      "\n",
      "3. Average Inflation Rate during Renewals:\n",
      "3.84%\n"
     ]
    }
   ],
   "source": [
    "def analyze_inflation_rates():\n",
    "    \"\"\"\n",
    "    Analyzes the relationship between inflation rates and subscription renewals.\n",
    "    \n",
    "    Merges subscription and financial data to examine inflation rates during\n",
    "    renewal periods and creates a box plot saved as 'inflation_rates.png'\n",
    "    \"\"\"\n",
    "    # Convert dates to datetime format\n",
    "    subscription_df['start_date'] = pd.to_datetime(subscription_df['start_date'])\n",
    "    financial_df['start_date'] = pd.to_datetime(financial_df['start_date'])\n",
    "    \n",
    "    # Merge subscription and financial data\n",
    "    merged_df = subscription_df.merge(financial_df, on='start_date', how='left')\n",
    "    \n",
    "    # Calculate average inflation rate for renewed subscriptions\n",
    "    avg_inflation = merged_df[merged_df['renewed'] == True]['inflation_rate'].mean()\n",
    "    \n",
    "    # Create and save visualization\n",
    "    plt.figure(figsize=(10, 6))\n",
    "    sns.boxplot(x='renewed', y='inflation_rate', data=merged_df)\n",
    "    plt.title('Inflation Rate Distribution for Renewed vs Non-Renewed Subscriptions')\n",
    "    plt.xlabel('Subscription Renewed')\n",
    "    plt.ylabel('Inflation Rate (%)')\n",
    "    plt.tight_layout()\n",
    "    plt.savefig('inflation_rates.png')\n",
    "    plt.close()\n",
    "    \n",
    "    print(\"\\n3. Average Inflation Rate during Renewals:\")\n",
    "    print(f\"{avg_inflation:.2f}%\")\n",
    "\n",
    "analyze_inflation_rates()"
   ]
  },
  {
   "cell_type": "code",
   "execution_count": null,
   "metadata": {},
   "outputs": [
    {
     "name": "stdout",
     "output_type": "stream",
     "text": [
      "\n",
      "4. Median Payment Amounts by Year and Payment Method:\n",
      "payment_method  Bank Transfer  Check  Credit Card\n",
      "year                                             \n",
      "2018                   281.65  216.6       229.15\n",
      "2019                   184.20  410.2       401.90\n",
      "2020                   225.10  413.1       285.25\n",
      "2021                   255.30  435.1       208.70\n",
      "2022                   196.50  275.5       326.20\n"
     ]
    },
    {
     "data": {
      "text/plain": [
       "<Figure size 1200x600 with 0 Axes>"
      ]
     },
     "metadata": {},
     "output_type": "display_data"
    }
   ],
   "source": [
    "def analyze_payment_amounts():\n",
    "    \"\"\"\n",
    "    Analyzes payment trends over time by payment method.\n",
    "    \n",
    "    Calculates and visualizes median payment amounts by year and payment method,\n",
    "    creating a stacked bar plot saved as 'payment_amounts.png'\n",
    "    \"\"\"\n",
    "    # Convert payment date to datetime and extract year\n",
    "    payment_df['payment_date'] = pd.to_datetime(payment_df['payment_date'])\n",
    "    payment_df['year'] = payment_df['payment_date'].dt.year\n",
    "    \n",
    "    # Calculate median amount by year and payment method\n",
    "    yearly_medians = payment_df.groupby(['year', 'payment_method'])['amount_paid'].median().unstack()\n",
    "    \n",
    "    # Create and save visualization\n",
    "    plt.figure(figsize=(12, 6))\n",
    "    yearly_medians.plot(kind='bar', stacked=False)\n",
    "    plt.title('Median Payment Amount by Year and Payment Method')\n",
    "    plt.xlabel('Year')\n",
    "    plt.ylabel('Median Amount ($)')\n",
    "    plt.legend(title='Payment Method')\n",
    "    plt.tight_layout()\n",
    "    plt.savefig('payment_amounts.png')\n",
    "    plt.close()\n",
    "    \n",
    "    print(\"\\n4. Median Payment Amounts by Year and Payment Method:\")\n",
    "    print(yearly_medians.round(2))\n",
    "    \n",
    "analyze_payment_amounts()"
   ]
  }
 ],
 "metadata": {
  "kernelspec": {
   "display_name": "virtualenv",
   "language": "python",
   "name": "python3"
  },
  "language_info": {
   "codemirror_mode": {
    "name": "ipython",
    "version": 3
   },
   "file_extension": ".py",
   "mimetype": "text/x-python",
   "name": "python",
   "nbconvert_exporter": "python",
   "pygments_lexer": "ipython3",
   "version": "3.12.4"
  }
 },
 "nbformat": 4,
 "nbformat_minor": 2
}
